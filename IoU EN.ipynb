{
 "cells": [
  {
   "cell_type": "code",
   "execution_count": 2,
   "id": "ae7f98f4-ffff-4cbc-b00f-06c710c6857b",
   "metadata": {},
   "outputs": [
    {
     "name": "stdout",
     "output_type": "stream",
     "text": [
      "This program asks you for the center coordinates of two 10 mm radius circles as x,y and calculates the IoU and Dice score based on the data obtained.\n",
      "\n",
      "If you're ready, let's start.\n"
     ]
    },
    {
     "name": "stdin",
     "output_type": "stream",
     "text": [
      "Enter x coordinate of the center of the first circle:  15\n",
      "Enter y coordinate of the center of the first circle:  25\n",
      "Enter x coordinate of the center of the second circle:  0\n",
      "Enter y coordinate of the center of the second circle:  0\n"
     ]
    },
    {
     "name": "stdout",
     "output_type": "stream",
     "text": [
      "Intersection Area:  0\n",
      "IoU:  0.0\n",
      "Dice:  0.0\n"
     ]
    },
    {
     "data": {
      "image/png": "[encoded data removed]",
      "text/plain": [
       "<Figure size 640x480 with 1 Axes>"
      ]
     },
     "metadata": {},
     "output_type": "display_data"
    },
    {
     "name": "stdin",
     "output_type": "stream",
     "text": [
      "Do you want to define two new circles (Y/N)?  n\n"
     ]
    },
    {
     "name": "stdout",
     "output_type": "stream",
     "text": [
      "Goodbye.\n"
     ]
    }
   ],
   "source": [
    "import math\n",
    "import matplotlib.pyplot as plt\n",
    "\n",
    "def main():\n",
    "    print(\"\"\"This program asks you for the center coordinates of two 10 mm radius circles as x,y and calculates the IoU and Dice score based on the data obtained.\n",
    "\n",
    "If you're ready, let's start.\"\"\")\n",
    "\n",
    "    while True:  \n",
    "        x1 = float(input(\"Enter x coordinate of the center of the first circle: \"))\n",
    "        y1 = float(input(\"Enter y coordinate of the center of the first circle: \"))\n",
    "\n",
    "        x2 = float(input(\"Enter x coordinate of the center of the second circle: \"))\n",
    "        y2 = float(input(\"Enter y coordinate of the center of the second circle: \"))\n",
    "\n",
    "        r = 10\n",
    "\n",
    "        d = math.sqrt((x2 - x1)**2 + (y2 - y1)**2)\n",
    "        if d >= 2*r:\n",
    "            intersection_area = 0\n",
    "        else:\n",
    "            intersection_area = 2 * r**2 * math.acos(d / (2*r)) - (d/2) * math.sqrt(4 * r**2 - d**2)\n",
    "\n",
    "        print(\"Intersection Area: \", intersection_area)\n",
    "        \n",
    "        union_area = 2*math.pi*r**2 - intersection_area\n",
    "        IoU = intersection_area / union_area\n",
    "        Dice = 2*intersection_area / (2*math.pi*r**2 + 2*math.pi*r**2)\n",
    "\n",
    "        print(\"IoU: \", IoU)\n",
    "        print(\"Dice: \", Dice)\n",
    "        \n",
    "        fig, ax = plt.subplots()\n",
    "\n",
    "        circle1 = plt.Circle((x1, y1), r, color='b', fill=True)\n",
    "        circle2 = plt.Circle((x2, y2), r, color='y', fill=True)\n",
    "\n",
    "        ax.add_artist(circle1)\n",
    "        ax.add_artist(circle2)\n",
    "\n",
    "        ax.set_xlim([min(x1, x2) - r - 1, max(x1, x2) + r + 1])\n",
    "        ax.set_ylim([min(y1, y2) - r - 1, max(y1, y2) + r + 1])\n",
    "        \n",
    "        if intersection_area > 0:\n",
    "            a = d/2 + (r**2 - r**2)/(2*d)\n",
    "            h = math.sqrt(r**2 - a**2)\n",
    "            p2_x = x1 + a*(x2 - x1)/d\n",
    "            p2_y = y1 + a*(y2 - y1)/d\n",
    "            inter_x1 = p2_x - h*(y2 - y1)/d\n",
    "            inter_y1 = p2_y + h*(x2 - x1)/d\n",
    "            inter_x2 = p2_x + h*(y2 - y1)/d\n",
    "            inter_y2 = p2_y - h*(x2 - x1)/d\n",
    "\n",
    "            polygon = plt.Polygon(((inter_x1, inter_y1), (inter_x2, inter_y2)), color='lightgreen')\n",
    "            ax.add_artist(polygon)\n",
    "        \n",
    "        ax.plot(x1, y1, 'o')\n",
    "        ax.plot(x2, y2, 'o')\n",
    "        \n",
    "        ax.spines['left'].set_position('zero')\n",
    "        ax.spines['left'].set_color('gray')\n",
    "        ax.spines['left'].set_linewidth(0.5)\n",
    "        ax.spines['bottom'].set_position('zero')\n",
    "        ax.spines['bottom'].set_color('gray')\n",
    "        ax.spines['bottom'].set_linewidth(0.5)\n",
    "\n",
    "        ax.spines['right'].set_color('none')\n",
    "        ax.spines['top'].set_color('none')\n",
    "\n",
    "        ax.yaxis.tick_left()\n",
    "        ax.xaxis.tick_bottom()\n",
    "        ax.xaxis.set_tick_params(width=0.5)\n",
    "        ax.yaxis.set_tick_params(width=0.5)\n",
    "\n",
    "        plt.gca().set_aspect('equal', adjustable='box')\n",
    "        plt.grid(True, which='both', color='gray', linewidth=0.5)\n",
    "        plt.show()\n",
    "        \n",
    "        answer = input(\"Do you want to define two new circles (Y/N)? \")\n",
    "        if answer.lower() == \"n\":\n",
    "            print(\"Goodbye.\")\n",
    "            break\n",
    "\n",
    "if __name__ == \"__main__\":\n",
    "    main()\n"
   ]
  },
  {
   "cell_type": "code",
   "execution_count": null,
   "id": "42f3052b-eab8-48b7-a0f8-cc69128eeacb",
   "metadata": {},
   "outputs": [],
   "source": []
  }
 ],
 "metadata": {
  "kernelspec": {
   "display_name": "Python 3 (ipykernel)",
   "language": "python",
   "name": "python3"
  },
  "language_info": {
   "codemirror_mode": {
    "name": "ipython",
    "version": 3
   },
   "file_extension": ".py",
   "mimetype": "text/x-python",
   "name": "python",
   "nbconvert_exporter": "python",
   "pygments_lexer": "ipython3",
   "version": "3.9.0"
  }
 },
 "nbformat": 4,
 "nbformat_minor": 5
}
